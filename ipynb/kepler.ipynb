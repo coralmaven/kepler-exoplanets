{
 "cells": [
  {
   "cell_type": "markdown",
   "metadata": {
    "colab_type": "text",
    "id": "view-in-github"
   },
   "source": [
    "<a href=\"https://colab.research.google.com/github/coralmaven/kepler-exoplanets/blob/master/Copy_of_svm.ipynb\" target=\"_parent\"><img src=\"https://colab.research.google.com/assets/colab-badge.svg\" alt=\"Open In Colab\"/></a>"
   ]
  },
  {
   "cell_type": "markdown",
   "metadata": {},
   "source": [
    "![title](exoplanets.jpg)"
   ]
  },
  {
   "cell_type": "code",
   "execution_count": 2,
   "metadata": {
    "colab": {},
    "colab_type": "code",
    "id": "WpY88RfDNO9C"
   },
   "outputs": [],
   "source": [
    "import warnings\n",
    "warnings.simplefilter('ignore')\n",
    "\n",
    "%matplotlib inline\n",
    "import matplotlib.pyplot as plt\n",
    "import numpy as np\n",
    "import pandas as pd"
   ]
  },
  {
   "cell_type": "markdown",
   "metadata": {
    "colab_type": "text",
    "id": "jMWp7BokNO9H"
   },
   "source": [
    "# Read the CSV and Perform Basic Data Cleaning"
   ]
  },
  {
   "cell_type": "code",
   "execution_count": 3,
   "metadata": {
    "colab": {
     "base_uri": "https://localhost:8080/",
     "height": 224
    },
    "colab_type": "code",
    "id": "L8PKWJ8LNO9I",
    "outputId": "5b1503ca-0066-4f9d-a6e1-1020dfdad140"
   },
   "outputs": [
    {
     "data": {
      "text/html": [
       "<div>\n",
       "<style scoped>\n",
       "    .dataframe tbody tr th:only-of-type {\n",
       "        vertical-align: middle;\n",
       "    }\n",
       "\n",
       "    .dataframe tbody tr th {\n",
       "        vertical-align: top;\n",
       "    }\n",
       "\n",
       "    .dataframe thead th {\n",
       "        text-align: right;\n",
       "    }\n",
       "</style>\n",
       "<table border=\"1\" class=\"dataframe\">\n",
       "  <thead>\n",
       "    <tr style=\"text-align: right;\">\n",
       "      <th></th>\n",
       "      <th>rowid</th>\n",
       "      <th>kepid</th>\n",
       "      <th>kepoi_name</th>\n",
       "      <th>kepler_name</th>\n",
       "      <th>koi_disposition</th>\n",
       "      <th>koi_pdisposition</th>\n",
       "      <th>koi_score</th>\n",
       "      <th>koi_fpflag_nt</th>\n",
       "      <th>koi_fpflag_ss</th>\n",
       "      <th>koi_fpflag_co</th>\n",
       "      <th>...</th>\n",
       "      <th>koi_steff_err2</th>\n",
       "      <th>koi_slogg</th>\n",
       "      <th>koi_slogg_err1</th>\n",
       "      <th>koi_slogg_err2</th>\n",
       "      <th>koi_srad</th>\n",
       "      <th>koi_srad_err1</th>\n",
       "      <th>koi_srad_err2</th>\n",
       "      <th>ra</th>\n",
       "      <th>dec</th>\n",
       "      <th>koi_kepmag</th>\n",
       "    </tr>\n",
       "  </thead>\n",
       "  <tbody>\n",
       "    <tr>\n",
       "      <th>0</th>\n",
       "      <td>1</td>\n",
       "      <td>10797460</td>\n",
       "      <td>K00752.01</td>\n",
       "      <td>Kepler-227 b</td>\n",
       "      <td>CONFIRMED</td>\n",
       "      <td>CANDIDATE</td>\n",
       "      <td>1.000</td>\n",
       "      <td>0</td>\n",
       "      <td>0</td>\n",
       "      <td>0</td>\n",
       "      <td>...</td>\n",
       "      <td>-81.0</td>\n",
       "      <td>4.467</td>\n",
       "      <td>0.064</td>\n",
       "      <td>-0.096</td>\n",
       "      <td>0.927</td>\n",
       "      <td>0.105</td>\n",
       "      <td>-0.061</td>\n",
       "      <td>291.93423</td>\n",
       "      <td>48.141651</td>\n",
       "      <td>15.347</td>\n",
       "    </tr>\n",
       "    <tr>\n",
       "      <th>1</th>\n",
       "      <td>2</td>\n",
       "      <td>10797460</td>\n",
       "      <td>K00752.02</td>\n",
       "      <td>Kepler-227 c</td>\n",
       "      <td>CONFIRMED</td>\n",
       "      <td>CANDIDATE</td>\n",
       "      <td>0.969</td>\n",
       "      <td>0</td>\n",
       "      <td>0</td>\n",
       "      <td>0</td>\n",
       "      <td>...</td>\n",
       "      <td>-81.0</td>\n",
       "      <td>4.467</td>\n",
       "      <td>0.064</td>\n",
       "      <td>-0.096</td>\n",
       "      <td>0.927</td>\n",
       "      <td>0.105</td>\n",
       "      <td>-0.061</td>\n",
       "      <td>291.93423</td>\n",
       "      <td>48.141651</td>\n",
       "      <td>15.347</td>\n",
       "    </tr>\n",
       "    <tr>\n",
       "      <th>2</th>\n",
       "      <td>3</td>\n",
       "      <td>10811496</td>\n",
       "      <td>K00753.01</td>\n",
       "      <td>NaN</td>\n",
       "      <td>FALSE POSITIVE</td>\n",
       "      <td>FALSE POSITIVE</td>\n",
       "      <td>0.000</td>\n",
       "      <td>0</td>\n",
       "      <td>1</td>\n",
       "      <td>0</td>\n",
       "      <td>...</td>\n",
       "      <td>-176.0</td>\n",
       "      <td>4.544</td>\n",
       "      <td>0.044</td>\n",
       "      <td>-0.176</td>\n",
       "      <td>0.868</td>\n",
       "      <td>0.233</td>\n",
       "      <td>-0.078</td>\n",
       "      <td>297.00482</td>\n",
       "      <td>48.134129</td>\n",
       "      <td>15.436</td>\n",
       "    </tr>\n",
       "    <tr>\n",
       "      <th>3</th>\n",
       "      <td>4</td>\n",
       "      <td>10848459</td>\n",
       "      <td>K00754.01</td>\n",
       "      <td>NaN</td>\n",
       "      <td>FALSE POSITIVE</td>\n",
       "      <td>FALSE POSITIVE</td>\n",
       "      <td>0.000</td>\n",
       "      <td>0</td>\n",
       "      <td>1</td>\n",
       "      <td>0</td>\n",
       "      <td>...</td>\n",
       "      <td>-174.0</td>\n",
       "      <td>4.564</td>\n",
       "      <td>0.053</td>\n",
       "      <td>-0.168</td>\n",
       "      <td>0.791</td>\n",
       "      <td>0.201</td>\n",
       "      <td>-0.067</td>\n",
       "      <td>285.53461</td>\n",
       "      <td>48.285210</td>\n",
       "      <td>15.597</td>\n",
       "    </tr>\n",
       "    <tr>\n",
       "      <th>4</th>\n",
       "      <td>5</td>\n",
       "      <td>10854555</td>\n",
       "      <td>K00755.01</td>\n",
       "      <td>Kepler-664 b</td>\n",
       "      <td>CONFIRMED</td>\n",
       "      <td>CANDIDATE</td>\n",
       "      <td>1.000</td>\n",
       "      <td>0</td>\n",
       "      <td>0</td>\n",
       "      <td>0</td>\n",
       "      <td>...</td>\n",
       "      <td>-211.0</td>\n",
       "      <td>4.438</td>\n",
       "      <td>0.070</td>\n",
       "      <td>-0.210</td>\n",
       "      <td>1.046</td>\n",
       "      <td>0.334</td>\n",
       "      <td>-0.133</td>\n",
       "      <td>288.75488</td>\n",
       "      <td>48.226200</td>\n",
       "      <td>15.509</td>\n",
       "    </tr>\n",
       "  </tbody>\n",
       "</table>\n",
       "<p>5 rows × 50 columns</p>\n",
       "</div>"
      ],
      "text/plain": [
       "   rowid     kepid kepoi_name   kepler_name koi_disposition koi_pdisposition  \\\n",
       "0      1  10797460  K00752.01  Kepler-227 b       CONFIRMED        CANDIDATE   \n",
       "1      2  10797460  K00752.02  Kepler-227 c       CONFIRMED        CANDIDATE   \n",
       "2      3  10811496  K00753.01           NaN  FALSE POSITIVE   FALSE POSITIVE   \n",
       "3      4  10848459  K00754.01           NaN  FALSE POSITIVE   FALSE POSITIVE   \n",
       "4      5  10854555  K00755.01  Kepler-664 b       CONFIRMED        CANDIDATE   \n",
       "\n",
       "   koi_score  koi_fpflag_nt  koi_fpflag_ss  koi_fpflag_co  ...  \\\n",
       "0      1.000              0              0              0  ...   \n",
       "1      0.969              0              0              0  ...   \n",
       "2      0.000              0              1              0  ...   \n",
       "3      0.000              0              1              0  ...   \n",
       "4      1.000              0              0              0  ...   \n",
       "\n",
       "   koi_steff_err2  koi_slogg  koi_slogg_err1  koi_slogg_err2  koi_srad  \\\n",
       "0           -81.0      4.467           0.064          -0.096     0.927   \n",
       "1           -81.0      4.467           0.064          -0.096     0.927   \n",
       "2          -176.0      4.544           0.044          -0.176     0.868   \n",
       "3          -174.0      4.564           0.053          -0.168     0.791   \n",
       "4          -211.0      4.438           0.070          -0.210     1.046   \n",
       "\n",
       "   koi_srad_err1  koi_srad_err2         ra        dec  koi_kepmag  \n",
       "0          0.105         -0.061  291.93423  48.141651      15.347  \n",
       "1          0.105         -0.061  291.93423  48.141651      15.347  \n",
       "2          0.233         -0.078  297.00482  48.134129      15.436  \n",
       "3          0.201         -0.067  285.53461  48.285210      15.597  \n",
       "4          0.334         -0.133  288.75488  48.226200      15.509  \n",
       "\n",
       "[5 rows x 50 columns]"
      ]
     },
     "execution_count": 3,
     "metadata": {},
     "output_type": "execute_result"
    }
   ],
   "source": [
    "df_orig = pd.read_csv(\"data/cumulative.csv\")\n",
    "df_orig.head()"
   ]
  },
  {
   "cell_type": "code",
   "execution_count": 4,
   "metadata": {
    "colab": {
     "base_uri": "https://localhost:8080/",
     "height": 34
    },
    "colab_type": "code",
    "id": "y-Ik1rRYNO9N",
    "outputId": "86f173d6-59d7-43f8-9f10-881b89a5db8c"
   },
   "outputs": [
    {
     "data": {
      "text/plain": [
       "478200"
      ]
     },
     "execution_count": 4,
     "metadata": {},
     "output_type": "execute_result"
    }
   ],
   "source": [
    "df_orig.size"
   ]
  },
  {
   "cell_type": "code",
   "execution_count": 5,
   "metadata": {
    "colab": {
     "base_uri": "https://localhost:8080/",
     "height": 224
    },
    "colab_type": "code",
    "id": "uJGRpnYZNO9S",
    "outputId": "6a5b6b3a-ed4d-40f6-ffb0-20c9168e40e3"
   },
   "outputs": [
    {
     "data": {
      "text/plain": [
       "358504"
      ]
     },
     "execution_count": 5,
     "metadata": {},
     "output_type": "execute_result"
    }
   ],
   "source": [
    "df = df_orig.drop(columns=[\"rowid\", \"kepid\", \"kepoi_name\", \"kepler_name\", \"koi_pdisposition\", \"koi_score\", \"koi_tce_delivname\"])\n",
    "# Drop the null columns where all values are null\n",
    "df = df.dropna(axis='columns', how='all')\n",
    "# Drop the null rows\n",
    "df = df.dropna()\n",
    "df.size"
   ]
  },
  {
   "cell_type": "markdown",
   "metadata": {
    "colab_type": "text",
    "id": "nWUzM4d1ORlr"
   },
   "source": [
    "# Label Encoder: Transform Labels to Numbers"
   ]
  },
  {
   "cell_type": "code",
   "execution_count": 6,
   "metadata": {
    "colab": {
     "base_uri": "https://localhost:8080/",
     "height": 34
    },
    "colab_type": "code",
    "id": "gyIHyGVeNO9V",
    "outputId": "ac6c2897-f6ce-4a05-a802-827d19635e4e"
   },
   "outputs": [
    {
     "data": {
      "text/plain": [
       "array(['CANDIDATE', 'CONFIRMED', 'FALSE POSITIVE'], dtype=object)"
      ]
     },
     "execution_count": 6,
     "metadata": {},
     "output_type": "execute_result"
    }
   ],
   "source": [
    "from sklearn.preprocessing import LabelEncoder\n",
    "label_encoder = LabelEncoder()\n",
    "\n",
    "label_encoder.fit(df['koi_disposition'])\n",
    "label_encoder.classes_"
   ]
  },
  {
   "cell_type": "code",
   "execution_count": 7,
   "metadata": {
    "colab": {},
    "colab_type": "code",
    "id": "Xj6H9AiuNO9X"
   },
   "outputs": [],
   "source": [
    "df['koi_disposition'] = label_encoder.transform(df['koi_disposition'])"
   ]
  },
  {
   "cell_type": "markdown",
   "metadata": {
    "colab_type": "text",
    "id": "uVHjCT4SPp1B"
   },
   "source": [
    "# Assign X values"
   ]
  },
  {
   "cell_type": "code",
   "execution_count": 8,
   "metadata": {
    "colab": {},
    "colab_type": "code",
    "id": "XMq3HpXpZP4r"
   },
   "outputs": [],
   "source": [
    "X = df[df.columns[1:]]"
   ]
  },
  {
   "cell_type": "markdown",
   "metadata": {
    "colab_type": "text",
    "id": "HUY5PmLJO6Uq"
   },
   "source": [
    "# Use `koi_disposition` for the y values"
   ]
  },
  {
   "cell_type": "code",
   "execution_count": 9,
   "metadata": {
    "colab": {
     "base_uri": "https://localhost:8080/",
     "height": 136
    },
    "colab_type": "code",
    "id": "Q5beQ0U0NO9f",
    "outputId": "a047468b-9bfa-4829-dfff-a78564766d90"
   },
   "outputs": [],
   "source": [
    "y = df['koi_disposition'].values.reshape(-1,1)"
   ]
  },
  {
   "cell_type": "code",
   "execution_count": 10,
   "metadata": {
    "colab": {
     "base_uri": "https://localhost:8080/",
     "height": 204
    },
    "colab_type": "code",
    "id": "BRUhrv-wNO9h",
    "outputId": "d6d50331-ba13-4d37-8a18-5eb37be08956"
   },
   "outputs": [],
   "source": [
    "X = pd.get_dummies(X)"
   ]
  },
  {
   "cell_type": "markdown",
   "metadata": {
    "colab_type": "text",
    "id": "hC0NXouCOgC9"
   },
   "source": [
    "# Create Test Train Split"
   ]
  },
  {
   "cell_type": "code",
   "execution_count": 11,
   "metadata": {
    "colab": {},
    "colab_type": "code",
    "id": "xkuCIva4NO9k"
   },
   "outputs": [],
   "source": [
    "from sklearn.model_selection import train_test_split\n",
    "X_train, X_test, y_train, y_test = train_test_split(X,y,random_state=42,stratify=y)"
   ]
  },
  {
   "cell_type": "markdown",
   "metadata": {
    "colab_type": "text",
    "id": "xGkcXGPvNO9r"
   },
   "source": [
    "# Pre-processing\n",
    "\n",
    "Scale the data using the MinMaxScaler"
   ]
  },
  {
   "cell_type": "code",
   "execution_count": 12,
   "metadata": {
    "colab": {},
    "colab_type": "code",
    "id": "LUKvT1txNO9r"
   },
   "outputs": [],
   "source": [
    "from sklearn.preprocessing import MinMaxScaler\n",
    "X_minmax = MinMaxScaler().fit(X_train)\n",
    "y_minmax = MinMaxScaler().fit(y_train)"
   ]
  },
  {
   "cell_type": "code",
   "execution_count": 13,
   "metadata": {
    "colab": {},
    "colab_type": "code",
    "id": "10QSgKeHNO9u"
   },
   "outputs": [],
   "source": [
    "X_train_minmax = X_minmax.transform(X_train)\n",
    "X_test_minmax = X_minmax.transform(X_test)"
   ]
  },
  {
   "cell_type": "markdown",
   "metadata": {},
   "source": [
    "# Compare some basic ML Models"
   ]
  },
  {
   "cell_type": "code",
   "execution_count": 61,
   "metadata": {},
   "outputs": [
    {
     "name": "stdout",
     "output_type": "stream",
     "text": [
      "RandomForestClassifier\n",
      "                precision    recall  f1-score   support\n",
      "\n",
      "     CANDIDATE       0.83      0.51      0.63       529\n",
      "     CONFIRMED       0.74      0.85      0.79       568\n",
      "FALSE POSITIVE       0.90      0.99      0.94      1089\n",
      "\n",
      "      accuracy                           0.84      2186\n",
      "     macro avg       0.82      0.79      0.79      2186\n",
      "  weighted avg       0.84      0.84      0.83      2186\n",
      "\n",
      "Training Data Score: 0.8411100945410186\n",
      "Testing Data Score: 0.8403476669716377\n",
      "===========================================================\n",
      "LinearSVC\n",
      "                precision    recall  f1-score   support\n",
      "\n",
      "     CANDIDATE       0.77      0.58      0.66       529\n",
      "     CONFIRMED       0.69      0.82      0.75       568\n",
      "FALSE POSITIVE       0.98      1.00      0.99      1089\n",
      "\n",
      "      accuracy                           0.85      2186\n",
      "     macro avg       0.81      0.80      0.80      2186\n",
      "  weighted avg       0.85      0.85      0.85      2186\n",
      "\n",
      "Training Data Score: 0.8595608417200366\n",
      "Testing Data Score: 0.8513266239707228\n",
      "===========================================================\n",
      "MultinomialNB\n",
      "                precision    recall  f1-score   support\n",
      "\n",
      "     CANDIDATE       0.84      0.29      0.43       529\n",
      "     CONFIRMED       0.59      0.93      0.72       568\n",
      "FALSE POSITIVE       0.98      1.00      0.99      1089\n",
      "\n",
      "      accuracy                           0.81      2186\n",
      "     macro avg       0.80      0.74      0.71      2186\n",
      "  weighted avg       0.84      0.81      0.78      2186\n",
      "\n",
      "Training Data Score: 0.812137846904544\n",
      "Testing Data Score: 0.8087831655992681\n",
      "===========================================================\n",
      "LogisticRegression\n",
      "                precision    recall  f1-score   support\n",
      "\n",
      "     CANDIDATE       0.73      0.56      0.63       529\n",
      "     CONFIRMED       0.67      0.79      0.72       568\n",
      "FALSE POSITIVE       0.98      1.00      0.99      1089\n",
      "\n",
      "      accuracy                           0.84      2186\n",
      "     macro avg       0.79      0.78      0.78      2186\n",
      "  weighted avg       0.84      0.84      0.83      2186\n",
      "\n",
      "Training Data Score: 0.845684659957304\n",
      "Testing Data Score: 0.8371454711802379\n",
      "===========================================================\n",
      "SVC\n",
      "                precision    recall  f1-score   support\n",
      "\n",
      "     CANDIDATE       0.78      0.55      0.64       529\n",
      "     CONFIRMED       0.67      0.84      0.75       568\n",
      "FALSE POSITIVE       0.98      1.00      0.99      1089\n",
      "\n",
      "      accuracy                           0.85      2186\n",
      "     macro avg       0.81      0.79      0.79      2186\n",
      "  weighted avg       0.85      0.85      0.84      2186\n",
      "\n",
      "Training Data Score: 0.8508691674290942\n",
      "Testing Data Score: 0.8472095150960659\n",
      "===========================================================\n"
     ]
    }
   ],
   "source": [
    "from sklearn.linear_model import LogisticRegression\n",
    "from sklearn.naive_bayes import MultinomialNB\n",
    "from sklearn.ensemble import RandomForestClassifier\n",
    "from sklearn.svm import LinearSVC\n",
    "from sklearn.model_selection import cross_val_score\n",
    "from sklearn.svm import SVC\n",
    "\n",
    "models = [\n",
    "    RandomForestClassifier(n_estimators=200, max_depth=3, random_state=0),\n",
    "    LinearSVC(),\n",
    "    MultinomialNB(),\n",
    "    LogisticRegression(random_state=0),\n",
    "    SVC(kernel='linear'),\n",
    "]\n",
    "\n",
    "CV = 5\n",
    "cv_df = pd.DataFrame(index=range(CV * len(models)))\n",
    "entries = []\n",
    "\n",
    "for model in models:\n",
    "    model_name = model.__class__.__name__\n",
    "    accuracies = cross_val_score(model, X_train_minmax, y_train, scoring='accuracy', cv=CV)\n",
    "\n",
    "    print(model_name)\n",
    "    model.fit(X_train_minmax, y_train)\n",
    "    predictions = model.predict(X_test_minmax)\n",
    "    print(classification_report(y_test, predictions,\n",
    "                target_names=['CANDIDATE', 'CONFIRMED', 'FALSE POSITIVE']))\n",
    "    print(f\"Training Data Score: {model.score(X_train_minmax, y_train)}\")\n",
    "    print(f\"Testing Data Score: {model.score(X_test_minmax, y_test)}\")\n",
    "    print(\"===========================================================\")\n",
    "    \n",
    "    for fold_idx, accuracy in enumerate(accuracies):\n",
    "        entries.append((model_name, fold_idx, accuracy))\n",
    "    \n",
    "    \n",
    "    cv_df = pd.DataFrame(entries, columns=['model_name', 'fold_idx', 'accuracy'])\n"
   ]
  },
  {
   "cell_type": "code",
   "execution_count": 63,
   "metadata": {},
   "outputs": [
    {
     "data": {
      "image/png": "[encoded data removed]",
      "text/plain": [
       "<Figure size 432x288 with 1 Axes>"
      ]
     },
     "metadata": {
      "needs_background": "light"
     },
     "output_type": "display_data"
    }
   ],
   "source": [
    "import seaborn as sns\n",
    "\n",
    "sns.boxplot(x='model_name', y='accuracy', data=cv_df)\n",
    "sns.stripplot(x='model_name', y='accuracy', data=cv_df, \n",
    "              size=6, jitter=True, edgecolor=\"gray\", linewidth=3)\n",
    "plt.show()"
   ]
  },
  {
   "cell_type": "markdown",
   "metadata": {},
   "source": [
    "The above plot proves that a Linear SVC model predicts the candidates most accurately."
   ]
  },
  {
   "cell_type": "markdown",
   "metadata": {
    "colab_type": "text",
    "id": "---gzrqdNO99"
   },
   "source": [
    "# Hyperparameter Tuning\n",
    "\n",
    "Use `GridSearchCV` to tune the `C` and `gamma` parameters"
   ]
  },
  {
   "cell_type": "markdown",
   "metadata": {
    "colab_type": "text",
    "id": "t-055wiWNO9-"
   },
   "source": [
    "# Create the GridSearchCV model"
   ]
  },
  {
   "cell_type": "code",
   "execution_count": 16,
   "metadata": {
    "colab": {},
    "colab_type": "code",
    "id": "vAq22MJgNO9-"
   },
   "outputs": [],
   "source": [
    "model = SVC(kernel='linear')\n",
    "from sklearn.model_selection import GridSearchCV\n",
    "param_grid = {'C': [ 390, 400, 410],\n",
    "              'gamma': [0.000000004,0.000000005,0.000000006]}\n",
    "grid = GridSearchCV(model, param_grid, verbose=3)"
   ]
  },
  {
   "cell_type": "code",
   "execution_count": 17,
   "metadata": {
    "colab": {},
    "colab_type": "code",
    "id": "yjYlilqqNO-A",
    "outputId": "1a987c7d-22ab-4d49-c513-953bccb71ea5"
   },
   "outputs": [
    {
     "name": "stdout",
     "output_type": "stream",
     "text": [
      "Fitting 3 folds for each of 9 candidates, totalling 27 fits\n",
      "[CV] C=390, gamma=4e-09 ..............................................\n"
     ]
    },
    {
     "name": "stderr",
     "output_type": "stream",
     "text": [
      "[Parallel(n_jobs=1)]: Using backend SequentialBackend with 1 concurrent workers.\n"
     ]
    },
    {
     "name": "stdout",
     "output_type": "stream",
     "text": [
      "[CV] .................. C=390, gamma=4e-09, score=0.887, total=   2.2s\n",
      "[CV] C=390, gamma=4e-09 ..............................................\n"
     ]
    },
    {
     "name": "stderr",
     "output_type": "stream",
     "text": [
      "[Parallel(n_jobs=1)]: Done   1 out of   1 | elapsed:    2.2s remaining:    0.0s\n"
     ]
    },
    {
     "name": "stdout",
     "output_type": "stream",
     "text": [
      "[CV] .................. C=390, gamma=4e-09, score=0.891, total=   1.6s\n",
      "[CV] C=390, gamma=4e-09 ..............................................\n"
     ]
    },
    {
     "name": "stderr",
     "output_type": "stream",
     "text": [
      "[Parallel(n_jobs=1)]: Done   2 out of   2 | elapsed:    3.8s remaining:    0.0s\n"
     ]
    },
    {
     "name": "stdout",
     "output_type": "stream",
     "text": [
      "[CV] .................. C=390, gamma=4e-09, score=0.886, total=   2.5s\n",
      "[CV] C=390, gamma=5e-09 ..............................................\n",
      "[CV] .................. C=390, gamma=5e-09, score=0.887, total=   2.0s\n",
      "[CV] C=390, gamma=5e-09 ..............................................\n",
      "[CV] .................. C=390, gamma=5e-09, score=0.891, total=   1.7s\n",
      "[CV] C=390, gamma=5e-09 ..............................................\n",
      "[CV] .................. C=390, gamma=5e-09, score=0.886, total=   2.5s\n",
      "[CV] C=390, gamma=6e-09 ..............................................\n",
      "[CV] .................. C=390, gamma=6e-09, score=0.887, total=   2.0s\n",
      "[CV] C=390, gamma=6e-09 ..............................................\n",
      "[CV] .................. C=390, gamma=6e-09, score=0.891, total=   1.7s\n",
      "[CV] C=390, gamma=6e-09 ..............................................\n",
      "[CV] .................. C=390, gamma=6e-09, score=0.886, total=   2.5s\n",
      "[CV] C=400, gamma=4e-09 ..............................................\n",
      "[CV] .................. C=400, gamma=4e-09, score=0.887, total=   2.0s\n",
      "[CV] C=400, gamma=4e-09 ..............................................\n",
      "[CV] .................. C=400, gamma=4e-09, score=0.891, total=   1.5s\n",
      "[CV] C=400, gamma=4e-09 ..............................................\n",
      "[CV] .................. C=400, gamma=4e-09, score=0.886, total=   2.5s\n",
      "[CV] C=400, gamma=5e-09 ..............................................\n",
      "[CV] .................. C=400, gamma=5e-09, score=0.887, total=   2.0s\n",
      "[CV] C=400, gamma=5e-09 ..............................................\n",
      "[CV] .................. C=400, gamma=5e-09, score=0.891, total=   1.6s\n",
      "[CV] C=400, gamma=5e-09 ..............................................\n",
      "[CV] .................. C=400, gamma=5e-09, score=0.886, total=   2.7s\n",
      "[CV] C=400, gamma=6e-09 ..............................................\n",
      "[CV] .................. C=400, gamma=6e-09, score=0.887, total=   2.1s\n",
      "[CV] C=400, gamma=6e-09 ..............................................\n",
      "[CV] .................. C=400, gamma=6e-09, score=0.891, total=   1.6s\n",
      "[CV] C=400, gamma=6e-09 ..............................................\n",
      "[CV] .................. C=400, gamma=6e-09, score=0.886, total=   2.5s\n",
      "[CV] C=410, gamma=4e-09 ..............................................\n",
      "[CV] .................. C=410, gamma=4e-09, score=0.886, total=   2.1s\n",
      "[CV] C=410, gamma=4e-09 ..............................................\n",
      "[CV] .................. C=410, gamma=4e-09, score=0.891, total=   1.7s\n",
      "[CV] C=410, gamma=4e-09 ..............................................\n",
      "[CV] .................. C=410, gamma=4e-09, score=0.886, total=   2.6s\n",
      "[CV] C=410, gamma=5e-09 ..............................................\n",
      "[CV] .................. C=410, gamma=5e-09, score=0.886, total=   2.1s\n",
      "[CV] C=410, gamma=5e-09 ..............................................\n",
      "[CV] .................. C=410, gamma=5e-09, score=0.891, total=   1.8s\n",
      "[CV] C=410, gamma=5e-09 ..............................................\n",
      "[CV] .................. C=410, gamma=5e-09, score=0.886, total=   3.0s\n",
      "[CV] C=410, gamma=6e-09 ..............................................\n",
      "[CV] .................. C=410, gamma=6e-09, score=0.886, total=   2.1s\n",
      "[CV] C=410, gamma=6e-09 ..............................................\n",
      "[CV] .................. C=410, gamma=6e-09, score=0.891, total=   1.7s\n",
      "[CV] C=410, gamma=6e-09 ..............................................\n",
      "[CV] .................. C=410, gamma=6e-09, score=0.886, total=   2.7s\n"
     ]
    },
    {
     "name": "stderr",
     "output_type": "stream",
     "text": [
      "[Parallel(n_jobs=1)]: Done  27 out of  27 | elapsed:   56.6s finished\n"
     ]
    },
    {
     "data": {
      "text/plain": [
       "GridSearchCV(cv='warn', error_score='raise-deprecating',\n",
       "             estimator=SVC(C=1.0, cache_size=200, class_weight=None, coef0=0.0,\n",
       "                           decision_function_shape='ovr', degree=3,\n",
       "                           gamma='auto_deprecated', kernel='linear',\n",
       "                           max_iter=-1, probability=False, random_state=None,\n",
       "                           shrinking=True, tol=0.001, verbose=False),\n",
       "             iid='warn', n_jobs=None,\n",
       "             param_grid={'C': [390, 400, 410], 'gamma': [4e-09, 5e-09, 6e-09]},\n",
       "             pre_dispatch='2*n_jobs', refit=True, return_train_score=False,\n",
       "             scoring=None, verbose=3)"
      ]
     },
     "execution_count": 17,
     "metadata": {},
     "output_type": "execute_result"
    }
   ],
   "source": [
    "# Train the model with GridSearch\n",
    "grid.fit(X_train_minmax, y_train)"
   ]
  },
  {
   "cell_type": "code",
   "execution_count": 18,
   "metadata": {
    "colab": {},
    "colab_type": "code",
    "id": "mf4KGTZNNO-C",
    "outputId": "cd95c099-1172-49ee-b648-03cabe06676e"
   },
   "outputs": [
    {
     "name": "stdout",
     "output_type": "stream",
     "text": [
      "{'C': 390, 'gamma': 4e-09}\n",
      "0.8879231473010064\n"
     ]
    }
   ],
   "source": [
    "print(grid.best_params_)\n",
    "print(grid.best_score_)"
   ]
  },
  {
   "cell_type": "code",
   "execution_count": 19,
   "metadata": {},
   "outputs": [],
   "source": [
    "# Make predictions with the hypertuned model\n",
    "predictions = grid.predict(X_test_minmax)"
   ]
  },
  {
   "cell_type": "code",
   "execution_count": 20,
   "metadata": {},
   "outputs": [
    {
     "name": "stdout",
     "output_type": "stream",
     "text": [
      "                precision    recall  f1-score   support\n",
      "\n",
      "     CANDIDATE       0.85      0.69      0.76       529\n",
      "     CONFIRMED       0.76      0.87      0.81       568\n",
      "FALSE POSITIVE       0.98      1.00      0.99      1089\n",
      "\n",
      "      accuracy                           0.89      2186\n",
      "     macro avg       0.86      0.85      0.85      2186\n",
      "  weighted avg       0.89      0.89      0.89      2186\n",
      "\n"
     ]
    }
   ],
   "source": [
    "# Calculate classification report\n",
    "from sklearn.metrics import classification_report\n",
    "print(classification_report(y_test, predictions,\n",
    "                target_names=['CANDIDATE', 'CONFIRMED', 'FALSE POSITIVE']))"
   ]
  },
  {
   "cell_type": "code",
   "execution_count": 41,
   "metadata": {},
   "outputs": [
    {
     "name": "stdout",
     "output_type": "stream",
     "text": [
      "Fitting 3 folds for each of 4 candidates, totalling 12 fits\n",
      "[CV] C=10000, gamma=0.005 ............................................\n"
     ]
    },
    {
     "name": "stderr",
     "output_type": "stream",
     "text": [
      "[Parallel(n_jobs=1)]: Using backend SequentialBackend with 1 concurrent workers.\n"
     ]
    },
    {
     "name": "stdout",
     "output_type": "stream",
     "text": [
      "[CV] ................ C=10000, gamma=0.005, score=0.880, total=   0.9s\n",
      "[CV] C=10000, gamma=0.005 ............................................\n"
     ]
    },
    {
     "name": "stderr",
     "output_type": "stream",
     "text": [
      "[Parallel(n_jobs=1)]: Done   1 out of   1 | elapsed:    0.9s remaining:    0.0s\n"
     ]
    },
    {
     "name": "stdout",
     "output_type": "stream",
     "text": [
      "[CV] ................ C=10000, gamma=0.005, score=0.886, total=   0.8s\n",
      "[CV] C=10000, gamma=0.005 ............................................\n"
     ]
    },
    {
     "name": "stderr",
     "output_type": "stream",
     "text": [
      "[Parallel(n_jobs=1)]: Done   2 out of   2 | elapsed:    1.6s remaining:    0.0s\n"
     ]
    },
    {
     "name": "stdout",
     "output_type": "stream",
     "text": [
      "[CV] ................ C=10000, gamma=0.005, score=0.886, total=   0.8s\n",
      "[CV] C=10000, gamma=0.01 .............................................\n",
      "[CV] ................. C=10000, gamma=0.01, score=0.882, total=   0.8s\n",
      "[CV] C=10000, gamma=0.01 .............................................\n",
      "[CV] ................. C=10000, gamma=0.01, score=0.891, total=   0.8s\n",
      "[CV] C=10000, gamma=0.01 .............................................\n",
      "[CV] ................. C=10000, gamma=0.01, score=0.889, total=   0.8s\n",
      "[CV] C=25000, gamma=0.005 ............................................\n",
      "[CV] ................ C=25000, gamma=0.005, score=0.884, total=   0.9s\n",
      "[CV] C=25000, gamma=0.005 ............................................\n",
      "[CV] ................ C=25000, gamma=0.005, score=0.892, total=   0.8s\n",
      "[CV] C=25000, gamma=0.005 ............................................\n",
      "[CV] ................ C=25000, gamma=0.005, score=0.890, total=   0.9s\n",
      "[CV] C=25000, gamma=0.01 .............................................\n",
      "[CV] ................. C=25000, gamma=0.01, score=0.887, total=   1.0s\n",
      "[CV] C=25000, gamma=0.01 .............................................\n",
      "[CV] ................. C=25000, gamma=0.01, score=0.896, total=   1.0s\n",
      "[CV] C=25000, gamma=0.01 .............................................\n",
      "[CV] ................. C=25000, gamma=0.01, score=0.887, total=   1.1s\n"
     ]
    },
    {
     "name": "stderr",
     "output_type": "stream",
     "text": [
      "[Parallel(n_jobs=1)]: Done  12 out of  12 | elapsed:   10.6s finished\n"
     ]
    },
    {
     "data": {
      "text/plain": [
       "GridSearchCV(cv='warn', error_score='raise-deprecating',\n",
       "             estimator=SVC(C=1.0, cache_size=200, class_weight=None, coef0=0.0,\n",
       "                           decision_function_shape='ovr', degree=3,\n",
       "                           gamma='auto_deprecated', kernel='rbf', max_iter=-1,\n",
       "                           probability=False, random_state=None, shrinking=True,\n",
       "                           tol=0.001, verbose=False),\n",
       "             iid='warn', n_jobs=None,\n",
       "             param_grid={'C': [10000, 25000], 'gamma': [0.005, 0.01]},\n",
       "             pre_dispatch='2*n_jobs', refit=True, return_train_score=False,\n",
       "             scoring=None, verbose=3)"
      ]
     },
     "execution_count": 41,
     "metadata": {},
     "output_type": "execute_result"
    }
   ],
   "source": [
    "model2 = SVC(kernel='rbf')\n",
    "param_grid2 = {'C': [ 10000, 25000], 'gamma': [0.005, 0.01]}\n",
    "grid2 = GridSearchCV(model2, param_grid2, verbose=3)\n",
    "# Train the model with GridSearch\n",
    "grid2.fit(X_train_minmax, y_train)"
   ]
  },
  {
   "cell_type": "code",
   "execution_count": 42,
   "metadata": {},
   "outputs": [
    {
     "name": "stdout",
     "output_type": "stream",
     "text": [
      "{'C': 25000, 'gamma': 0.01}\n",
      "0.8899054589813967\n"
     ]
    }
   ],
   "source": [
    "print(grid2.best_params_)\n",
    "print(grid2.best_score_)"
   ]
  },
  {
   "cell_type": "code",
   "execution_count": 43,
   "metadata": {},
   "outputs": [
    {
     "name": "stdout",
     "output_type": "stream",
     "text": [
      "                precision    recall  f1-score   support\n",
      "\n",
      "     CANDIDATE       0.84      0.71      0.77       529\n",
      "     CONFIRMED       0.77      0.85      0.81       568\n",
      "FALSE POSITIVE       0.98      1.00      0.99      1089\n",
      "\n",
      "      accuracy                           0.89      2186\n",
      "     macro avg       0.86      0.85      0.86      2186\n",
      "  weighted avg       0.89      0.89      0.89      2186\n",
      "\n"
     ]
    }
   ],
   "source": [
    "# Make predictions with the hypertuned model\n",
    "predictions = grid2.predict(X_test_minmax)\n",
    "print(classification_report(y_test, predictions,\n",
    "                target_names=['CANDIDATE', 'CONFIRMED', 'FALSE POSITIVE']))"
   ]
  },
  {
   "cell_type": "code",
   "execution_count": null,
   "metadata": {},
   "outputs": [],
   "source": []
  }
 ],
 "metadata": {
  "colab": {
   "include_colab_link": true,
   "name": "Copy of svm.ipynb",
   "provenance": [],
   "version": "0.3.2"
  },
  "kernelspec": {
   "display_name": "Python 3",
   "language": "python",
   "name": "python3"
  },
  "language_info": {
   "codemirror_mode": {
    "name": "ipython",
    "version": 3
   },
   "file_extension": ".py",
   "mimetype": "text/x-python",
   "name": "python",
   "nbconvert_exporter": "python",
   "pygments_lexer": "ipython3",
   "version": "3.6.8"
  }
 },
 "nbformat": 4,
 "nbformat_minor": 1
}
